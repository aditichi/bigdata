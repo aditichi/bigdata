{
  "nbformat": 4,
  "nbformat_minor": 0,
  "metadata": {
    "colab": {
      "name": "1008csv.ipynb",
      "provenance": [],
      "collapsed_sections": [],
      "include_colab_link": true
    },
    "kernelspec": {
      "name": "ir",
      "display_name": "R"
    }
  },
  "cells": [
    {
      "cell_type": "markdown",
      "metadata": {
        "id": "view-in-github",
        "colab_type": "text"
      },
      "source": [
        "<a href=\"https://colab.research.google.com/github/aditichi/bigdata/blob/main/1008csv.ipynb\" target=\"_parent\"><img src=\"https://colab.research.google.com/assets/colab-badge.svg\" alt=\"Open In Colab\"/></a>"
      ]
    },
    {
      "cell_type": "code",
      "metadata": {
        "id": "3oxiTYdoUj98",
        "outputId": "b7333e9c-970e-487f-f5f7-24e65d597ffc",
        "colab": {
          "base_uri": "https://localhost:8080/",
          "height": 34
        }
      },
      "source": [
        "system(\"ls\",TRUE)"
      ],
      "execution_count": 2,
      "outputs": [
        {
          "output_type": "display_data",
          "data": {
            "text/plain": [
              "[1] \"20191203動物資料.csv\" \"sample_data\"         "
            ],
            "text/latex": "\\begin{enumerate*}\n\\item '20191203動物資料.csv'\n\\item 'sample\\_data'\n\\end{enumerate*}\n",
            "text/markdown": "1. '20191203動物資料.csv'\n2. 'sample_data'\n\n\n",
            "text/html": [
              "<style>\n",
              ".list-inline {list-style: none; margin:0; padding: 0}\n",
              ".list-inline>li {display: inline-block}\n",
              ".list-inline>li:not(:last-child)::after {content: \"\\00b7\"; padding: 0 .5ex}\n",
              "</style>\n",
              "<ol class=list-inline><li>'20191203動物資料.csv'</li><li>'sample_data'</li></ol>\n"
            ]
          },
          "metadata": {
            "tags": []
          }
        }
      ]
    },
    {
      "cell_type": "code",
      "metadata": {
        "id": "BDIhWqeVZHCL"
      },
      "source": [
        "library(readr)"
      ],
      "execution_count": 4,
      "outputs": []
    },
    {
      "cell_type": "code",
      "metadata": {
        "id": "2b7VsYAeZNO8"
      },
      "source": [
        "dataset<-read.csv(\"20191203動物資料.csv\")"
      ],
      "execution_count": 3,
      "outputs": []
    },
    {
      "cell_type": "code",
      "metadata": {
        "id": "gc_fJ4rJZeuq"
      },
      "source": [
        "dataset"
      ],
      "execution_count": null,
      "outputs": []
    },
    {
      "cell_type": "code",
      "metadata": {
        "id": "gDCWaA_-cjK3",
        "outputId": "00051b15-6e26-45d1-fa45-82ffb16115ae",
        "colab": {
          "base_uri": "https://localhost:8080/",
          "height": 51
        }
      },
      "source": [
        "head(dataset$A_Name_Ch, n=20)"
      ],
      "execution_count": 12,
      "outputs": [
        {
          "output_type": "display_data",
          "data": {
            "text/plain": [
              " [1] \"大貓熊\"     \"國王企鵝\"   \"黑腳企鵝\"   \"弓角羚羊\"   \"非洲野驢\"  \n",
              " [6] \"單峰駱駝\"   \"雙峰駱駝\"   \"人猿\"       \"大長臂猿\"   \"印度大犀鳥\"\n",
              "[11] \"亞洲象\"     \"孟加拉虎\"   \"花豹\"       \"馬來熊\"     \"馬來貘\"    \n",
              "[16] \"黑天鵝\"     \"白手長臂猿\" \"家鴨\"       \"家雞\"       \"家鵝\"      "
            ],
            "text/latex": "\\begin{enumerate*}\n\\item '大貓熊'\n\\item '國王企鵝'\n\\item '黑腳企鵝'\n\\item '弓角羚羊'\n\\item '非洲野驢'\n\\item '單峰駱駝'\n\\item '雙峰駱駝'\n\\item '人猿'\n\\item '大長臂猿'\n\\item '印度大犀鳥'\n\\item '亞洲象'\n\\item '孟加拉虎'\n\\item '花豹'\n\\item '馬來熊'\n\\item '馬來貘'\n\\item '黑天鵝'\n\\item '白手長臂猿'\n\\item '家鴨'\n\\item '家雞'\n\\item '家鵝'\n\\end{enumerate*}\n",
            "text/markdown": "1. '大貓熊'\n2. '國王企鵝'\n3. '黑腳企鵝'\n4. '弓角羚羊'\n5. '非洲野驢'\n6. '單峰駱駝'\n7. '雙峰駱駝'\n8. '人猿'\n9. '大長臂猿'\n10. '印度大犀鳥'\n11. '亞洲象'\n12. '孟加拉虎'\n13. '花豹'\n14. '馬來熊'\n15. '馬來貘'\n16. '黑天鵝'\n17. '白手長臂猿'\n18. '家鴨'\n19. '家雞'\n20. '家鵝'\n\n\n",
            "text/html": [
              "<style>\n",
              ".list-inline {list-style: none; margin:0; padding: 0}\n",
              ".list-inline>li {display: inline-block}\n",
              ".list-inline>li:not(:last-child)::after {content: \"\\00b7\"; padding: 0 .5ex}\n",
              "</style>\n",
              "<ol class=list-inline><li>'大貓熊'</li><li>'國王企鵝'</li><li>'黑腳企鵝'</li><li>'弓角羚羊'</li><li>'非洲野驢'</li><li>'單峰駱駝'</li><li>'雙峰駱駝'</li><li>'人猿'</li><li>'大長臂猿'</li><li>'印度大犀鳥'</li><li>'亞洲象'</li><li>'孟加拉虎'</li><li>'花豹'</li><li>'馬來熊'</li><li>'馬來貘'</li><li>'黑天鵝'</li><li>'白手長臂猿'</li><li>'家鴨'</li><li>'家雞'</li><li>'家鵝'</li></ol>\n"
            ]
          },
          "metadata": {
            "tags": []
          }
        }
      ]
    },
    {
      "cell_type": "code",
      "metadata": {
        "id": "MT2X27Obcx2A",
        "outputId": "48fa87bb-d8e6-49cf-cf80-a43ebe10b0ff",
        "colab": {
          "base_uri": "https://localhost:8080/",
          "height": 51
        }
      },
      "source": [
        "tail(dataset$A_Name_Ch, n=20)"
      ],
      "execution_count": 14,
      "outputs": [
        {
          "output_type": "display_data",
          "data": {
            "text/plain": [
              " [1] \"水豚\"         \"大食蟻獸\"     \"南美小食蟻獸\" \"白面捲尾猴\"   \"紅藍吸蜜鸚鵡\"\n",
              " [6] \"黃腿象龜\"     \"棕蜘蛛猴\"     \"二趾樹獺\"     \"慈鯛\"         \"珍珠魟\"      \n",
              "[11] \"棉頭絹猴\"     \"阿氏夜猴\"     \"小懶猴\"       \"粗尾侏儒狐猴\" \"蜜熊(未展出)\"\n",
              "[16] \"金色箭毒蛙\"   \"黃帶箭毒蛙\"   \"迷彩箭毒蛙\"   \"鈷藍箭毒蛙\"   \"象魚\"        "
            ],
            "text/latex": "\\begin{enumerate*}\n\\item '水豚'\n\\item '大食蟻獸'\n\\item '南美小食蟻獸'\n\\item '白面捲尾猴'\n\\item '紅藍吸蜜鸚鵡'\n\\item '黃腿象龜'\n\\item '棕蜘蛛猴'\n\\item '二趾樹獺'\n\\item '慈鯛'\n\\item '珍珠魟'\n\\item '棉頭絹猴'\n\\item '阿氏夜猴'\n\\item '小懶猴'\n\\item '粗尾侏儒狐猴'\n\\item '蜜熊(未展出)'\n\\item '金色箭毒蛙'\n\\item '黃帶箭毒蛙'\n\\item '迷彩箭毒蛙'\n\\item '鈷藍箭毒蛙'\n\\item '象魚'\n\\end{enumerate*}\n",
            "text/markdown": "1. '水豚'\n2. '大食蟻獸'\n3. '南美小食蟻獸'\n4. '白面捲尾猴'\n5. '紅藍吸蜜鸚鵡'\n6. '黃腿象龜'\n7. '棕蜘蛛猴'\n8. '二趾樹獺'\n9. '慈鯛'\n10. '珍珠魟'\n11. '棉頭絹猴'\n12. '阿氏夜猴'\n13. '小懶猴'\n14. '粗尾侏儒狐猴'\n15. '蜜熊(未展出)'\n16. '金色箭毒蛙'\n17. '黃帶箭毒蛙'\n18. '迷彩箭毒蛙'\n19. '鈷藍箭毒蛙'\n20. '象魚'\n\n\n",
            "text/html": [
              "<style>\n",
              ".list-inline {list-style: none; margin:0; padding: 0}\n",
              ".list-inline>li {display: inline-block}\n",
              ".list-inline>li:not(:last-child)::after {content: \"\\00b7\"; padding: 0 .5ex}\n",
              "</style>\n",
              "<ol class=list-inline><li>'水豚'</li><li>'大食蟻獸'</li><li>'南美小食蟻獸'</li><li>'白面捲尾猴'</li><li>'紅藍吸蜜鸚鵡'</li><li>'黃腿象龜'</li><li>'棕蜘蛛猴'</li><li>'二趾樹獺'</li><li>'慈鯛'</li><li>'珍珠魟'</li><li>'棉頭絹猴'</li><li>'阿氏夜猴'</li><li>'小懶猴'</li><li>'粗尾侏儒狐猴'</li><li>'蜜熊(未展出)'</li><li>'金色箭毒蛙'</li><li>'黃帶箭毒蛙'</li><li>'迷彩箭毒蛙'</li><li>'鈷藍箭毒蛙'</li><li>'象魚'</li></ol>\n"
            ]
          },
          "metadata": {
            "tags": []
          }
        }
      ]
    },
    {
      "cell_type": "code",
      "metadata": {
        "id": "2ncJGgt9c26G"
      },
      "source": [
        "dataset[grepl(\"企鵝\",dataset$A_Name_Ch),]"
      ],
      "execution_count": null,
      "outputs": []
    },
    {
      "cell_type": "code",
      "metadata": {
        "id": "VnA9rw3RdT84"
      },
      "source": [
        "dataset[grepl(\"蛙\",dataset$A_Name_Ch),]"
      ],
      "execution_count": null,
      "outputs": []
    },
    {
      "cell_type": "code",
      "metadata": {
        "id": "g5wNJUA7ezEl",
        "outputId": "baefef40-f3d2-4e79-d467-f9a4fac91d88",
        "colab": {
          "base_uri": "https://localhost:8080/",
          "height": 234
        }
      },
      "source": [
        "dataset[grepl(\"老虎\",dataset$A_Name_Ch),]"
      ],
      "execution_count": 16,
      "outputs": [
        {
          "output_type": "stream",
          "text": [
            "Warning message in cbind(parts$left, ellip_h, parts$right, deparse.level = 0L):\n",
            "“number of rows of result is not a multiple of vector length (arg 2)”\n",
            "Warning message in cbind(parts$left, ellip_h, parts$right, deparse.level = 0L):\n",
            "“number of rows of result is not a multiple of vector length (arg 2)”\n",
            "Warning message in cbind(parts$left, ellip_h, parts$right, deparse.level = 0L):\n",
            "“number of rows of result is not a multiple of vector length (arg 2)”\n",
            "Warning message in cbind(parts$left, ellip_h, parts$right, deparse.level = 0L):\n",
            "“number of rows of result is not a multiple of vector length (arg 2)”\n"
          ],
          "name": "stderr"
        },
        {
          "output_type": "display_data",
          "data": {
            "text/plain": [
              "     A_Name_Ch A_Summary A_Keywords A_AlsoKnown A_Geo A_Location A_POIGroup\n",
              "     A_Name_En A_Name_Latin A_Phylum ⋯ A_pdf02_URL A_Voice01_ALT A_Voice01_URL\n",
              "     A_Voice02_ALT A_Voice02_URL A_Voice03_ALT A_Voice03_URL A_Vedio_URL\n",
              "     A_Update A_CID"
            ],
            "text/latex": "A data.frame: 0 × 46\n\\begin{tabular}{lllllllllllllllllllll}\n A\\_Name\\_Ch & A\\_Summary & A\\_Keywords & A\\_AlsoKnown & A\\_Geo & A\\_Location & A\\_POIGroup & A\\_Name\\_En & A\\_Name\\_Latin & A\\_Phylum & ⋯ & A\\_pdf02\\_URL & A\\_Voice01\\_ALT & A\\_Voice01\\_URL & A\\_Voice02\\_ALT & A\\_Voice02\\_URL & A\\_Voice03\\_ALT & A\\_Voice03\\_URL & A\\_Vedio\\_URL & A\\_Update & A\\_CID\\\\\n <chr> & <chr> & <chr> & <chr> & <chr> & <chr> & <chr> & <chr> & <chr> & <chr> & ⋯ & <chr> & <chr> & <chr> & <chr> & <chr> & <chr> & <chr> & <chr> & <chr> & <int>\\\\\n\\hline\n\\end{tabular}\n",
            "text/markdown": "\nA data.frame: 0 × 46\n\n| A_Name_Ch &lt;chr&gt; | A_Summary &lt;chr&gt; | A_Keywords &lt;chr&gt; | A_AlsoKnown &lt;chr&gt; | A_Geo &lt;chr&gt; | A_Location &lt;chr&gt; | A_POIGroup &lt;chr&gt; | A_Name_En &lt;chr&gt; | A_Name_Latin &lt;chr&gt; | A_Phylum &lt;chr&gt; | ⋯ ⋯ | A_pdf02_URL &lt;chr&gt; | A_Voice01_ALT &lt;chr&gt; | A_Voice01_URL &lt;chr&gt; | A_Voice02_ALT &lt;chr&gt; | A_Voice02_URL &lt;chr&gt; | A_Voice03_ALT &lt;chr&gt; | A_Voice03_URL &lt;chr&gt; | A_Vedio_URL &lt;chr&gt; | A_Update &lt;chr&gt; | A_CID &lt;int&gt; |\n|---|---|---|---|---|---|---|---|---|---|---|---|---|---|---|---|---|---|---|---|---|\n\n",
            "text/html": [
              "<table>\n",
              "<caption>A data.frame: 0 × 46</caption>\n",
              "<thead>\n",
              "\t<tr><th scope=col>A_Name_Ch</th><th scope=col>A_Summary</th><th scope=col>A_Keywords</th><th scope=col>A_AlsoKnown</th><th scope=col>A_Geo</th><th scope=col>A_Location</th><th scope=col>A_POIGroup</th><th scope=col>A_Name_En</th><th scope=col>A_Name_Latin</th><th scope=col>A_Phylum</th><th scope=col>⋯</th><th scope=col>A_pdf02_URL</th><th scope=col>A_Voice01_ALT</th><th scope=col>A_Voice01_URL</th><th scope=col>A_Voice02_ALT</th><th scope=col>A_Voice02_URL</th><th scope=col>A_Voice03_ALT</th><th scope=col>A_Voice03_URL</th><th scope=col>A_Vedio_URL</th><th scope=col>A_Update</th><th scope=col>A_CID</th></tr>\n",
              "\t<tr><th scope=col>&lt;chr&gt;</th><th scope=col>&lt;chr&gt;</th><th scope=col>&lt;chr&gt;</th><th scope=col>&lt;chr&gt;</th><th scope=col>&lt;chr&gt;</th><th scope=col>&lt;chr&gt;</th><th scope=col>&lt;chr&gt;</th><th scope=col>&lt;chr&gt;</th><th scope=col>&lt;chr&gt;</th><th scope=col>&lt;chr&gt;</th><th scope=col>⋯</th><th scope=col>&lt;chr&gt;</th><th scope=col>&lt;chr&gt;</th><th scope=col>&lt;chr&gt;</th><th scope=col>&lt;chr&gt;</th><th scope=col>&lt;chr&gt;</th><th scope=col>&lt;chr&gt;</th><th scope=col>&lt;chr&gt;</th><th scope=col>&lt;chr&gt;</th><th scope=col>&lt;chr&gt;</th><th scope=col>&lt;int&gt;</th></tr>\n",
              "</thead>\n",
              "<tbody>\n",
              "</tbody>\n",
              "</table>\n"
            ]
          },
          "metadata": {
            "tags": []
          }
        }
      ]
    },
    {
      "cell_type": "markdown",
      "metadata": {
        "id": "IcNe0KSBZdLh"
      },
      "source": [
        ""
      ]
    }
  ]
}