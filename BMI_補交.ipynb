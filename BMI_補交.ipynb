{
  "nbformat": 4,
  "nbformat_minor": 0,
  "metadata": {
    "colab": {
      "name": "BMI 補交",
      "provenance": [],
      "collapsed_sections": [],
      "include_colab_link": true
    },
    "kernelspec": {
      "name": "ir",
      "display_name": "R"
    }
  },
  "cells": [
    {
      "cell_type": "markdown",
      "metadata": {
        "id": "view-in-github",
        "colab_type": "text"
      },
      "source": [
        "<a href=\"https://colab.research.google.com/github/aditichi/bigdata/blob/main/BMI_%E8%A3%9C%E4%BA%A4.ipynb\" target=\"_parent\"><img src=\"https://colab.research.google.com/assets/colab-badge.svg\" alt=\"Open In Colab\"/></a>"
      ]
    },
    {
      "cell_type": "code",
      "metadata": {
        "id": "oYr9VCT6W_Wc",
        "outputId": "46ac9155-3a61-4c5a-afd1-15e8d17b820a",
        "colab": {
          "base_uri": "https://localhost:8080/",
          "height": 34
        }
      },
      "source": [
        "class(1)"
      ],
      "execution_count": null,
      "outputs": [
        {
          "output_type": "display_data",
          "data": {
            "text/plain": [
              "[1] \"numeric\""
            ],
            "text/latex": "'numeric'",
            "text/markdown": "'numeric'",
            "text/html": [
              "'numeric'"
            ]
          },
          "metadata": {
            "tags": []
          }
        }
      ]
    },
    {
      "cell_type": "code",
      "metadata": {
        "id": "NAppMiNmXA96",
        "outputId": "37864415-13c3-40bb-e758-11228b6ac310",
        "colab": {
          "base_uri": "https://localhost:8080/",
          "height": 34
        }
      },
      "source": [
        "class('hi')"
      ],
      "execution_count": null,
      "outputs": [
        {
          "output_type": "display_data",
          "data": {
            "text/plain": [
              "[1] \"character\""
            ],
            "text/latex": "'character'",
            "text/markdown": "'character'",
            "text/html": [
              "'character'"
            ]
          },
          "metadata": {
            "tags": []
          }
        }
      ]
    },
    {
      "cell_type": "code",
      "metadata": {
        "id": "Fh40qMggXR3B",
        "outputId": "acb18f2a-ee9c-4d80-989e-d4d4594b5aac",
        "colab": {
          "base_uri": "https://localhost:8080/",
          "height": 34
        }
      },
      "source": [
        "8>7"
      ],
      "execution_count": null,
      "outputs": [
        {
          "output_type": "display_data",
          "data": {
            "text/plain": [
              "[1] TRUE"
            ],
            "text/latex": "TRUE",
            "text/markdown": "TRUE",
            "text/html": [
              "TRUE"
            ]
          },
          "metadata": {
            "tags": []
          }
        }
      ]
    },
    {
      "cell_type": "code",
      "metadata": {
        "id": "h6l761bvXko5",
        "outputId": "a43f2717-c0f9-4c6f-bd50-cd7963c261aa",
        "colab": {
          "base_uri": "https://localhost:8080/",
          "height": 34
        }
      },
      "source": [
        "17+237"
      ],
      "execution_count": null,
      "outputs": [
        {
          "output_type": "display_data",
          "data": {
            "text/plain": [
              "[1] 254"
            ],
            "text/latex": "254",
            "text/markdown": "254",
            "text/html": [
              "254"
            ]
          },
          "metadata": {
            "tags": []
          }
        }
      ]
    },
    {
      "cell_type": "code",
      "metadata": {
        "id": "zScNVuffXmkV"
      },
      "source": [
        "my_w <- 60"
      ],
      "execution_count": 2,
      "outputs": []
    },
    {
      "cell_type": "code",
      "metadata": {
        "id": "mTRO4XVAYoGj"
      },
      "source": [
        "my_h <- 168"
      ],
      "execution_count": 3,
      "outputs": []
    },
    {
      "cell_type": "code",
      "metadata": {
        "id": "UmAQCXB1Yqau"
      },
      "source": [
        "BMI <- my_w/(my_h/100)^2"
      ],
      "execution_count": 4,
      "outputs": []
    },
    {
      "cell_type": "code",
      "metadata": {
        "id": "M0ngFDOnY3V_",
        "outputId": "da77934c-4322-4d25-85ca-c2b1fabe1721",
        "colab": {
          "base_uri": "https://localhost:8080/",
          "height": 35
        }
      },
      "source": [
        "BMI"
      ],
      "execution_count": 5,
      "outputs": [
        {
          "output_type": "display_data",
          "data": {
            "text/plain": [
              "[1] 21.2585"
            ],
            "text/latex": "21.2585034013605",
            "text/markdown": "21.2585034013605",
            "text/html": [
              "21.2585034013605"
            ]
          },
          "metadata": {
            "tags": []
          }
        }
      ]
    },
    {
      "cell_type": "code",
      "metadata": {
        "id": "SHsA2S8fZETT",
        "outputId": "51420f28-7aa3-418c-85de-37c833f35731",
        "colab": {
          "base_uri": "https://localhost:8080/",
          "height": 35
        }
      },
      "source": [
        "first_name <- 'Aditi'\n",
        "first_name"
      ],
      "execution_count": 1,
      "outputs": [
        {
          "output_type": "display_data",
          "data": {
            "text/plain": [
              "[1] \"Aditi\""
            ],
            "text/latex": "'Aditi'",
            "text/markdown": "'Aditi'",
            "text/html": [
              "'Aditi'"
            ]
          },
          "metadata": {
            "tags": []
          }
        }
      ]
    },
    {
      "cell_type": "code",
      "metadata": {
        "id": "ae_Y5Ql1ZMNJ",
        "outputId": "ff4f8f87-9d04-41d2-cb4a-92ef2cbab8c7",
        "colab": {
          "base_uri": "https://localhost:8080/",
          "height": 35
        }
      },
      "source": [
        "paste0('我是',first_name,'，我的身高是',my_h,'，我的體重是',my_w,'，我的BMI是',BMI)"
      ],
      "execution_count": 6,
      "outputs": [
        {
          "output_type": "display_data",
          "data": {
            "text/plain": [
              "[1] \"我是Aditi，我的身高是168，我的體重是60，我的BMI是21.2585034013605\""
            ],
            "text/latex": "'我是Aditi，我的身高是168，我的體重是60，我的BMI是21.2585034013605'",
            "text/markdown": "'我是Aditi，我的身高是168，我的體重是60，我的BMI是21.2585034013605'",
            "text/html": [
              "'我是Aditi，我的身高是168，我的體重是60，我的BMI是21.2585034013605'"
            ]
          },
          "metadata": {
            "tags": []
          }
        }
      ]
    },
    {
      "cell_type": "code",
      "metadata": {
        "id": "_v3m3zf0b-8l"
      },
      "source": [
        ""
      ],
      "execution_count": null,
      "outputs": []
    }
  ]
}